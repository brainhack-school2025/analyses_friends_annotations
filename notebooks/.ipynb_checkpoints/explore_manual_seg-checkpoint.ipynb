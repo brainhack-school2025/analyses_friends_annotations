{
 "cells": [
  {
   "cell_type": "code",
   "execution_count": 2,
   "id": "8116ff09-63ac-43b5-91c5-c060928fe41a",
   "metadata": {},
   "outputs": [],
   "source": [
    "import pandas as pd\n",
    "import seaborn as sns\n",
    "import matplotlib.pyplot as plt\n",
    "import os\n",
    "from glob import glob"
   ]
  },
  {
   "cell_type": "code",
   "execution_count": 34,
   "id": "775dd5fb-66fc-4b24-b404-7836f43d1f20",
   "metadata": {},
   "outputs": [],
   "source": [
    "path = \"/mnt/c/Temp/analyses_friends_annotations/friends_annotations/annotation_results/manual_segmentation\"\n",
    "all_data=[]\n",
    "tsv_files = glob(os.path.join(path,'**','*.tsv'), recursive = True)"
   ]
  },
  {
   "cell_type": "code",
   "execution_count": 35,
   "id": "c755828e-5a6e-4d9a-874f-ec44164f31c7",
   "metadata": {},
   "outputs": [],
   "source": [
    "for file in tsv_files:\n",
    "    df=pd.read_csv(file, sep= '\\t')\n",
    "    all_data.append(df)\n",
    "    "
   ]
  },
  {
   "cell_type": "code",
   "execution_count": 43,
   "id": "c4e8f203-1d58-4da3-a2dc-a372566398ec",
   "metadata": {},
   "outputs": [],
   "source": [
    "df_manual_seg = pd.concat(all_data, ignore_index=True)\n",
    "df_manual_seg['global_segment'] = df_manual_seg.index + 1\n",
    "df_manual_seg[\"episode_full\"] = df_manual_seg[\"episode\"].str[:-1]\n",
    "\n",
    "\n"
   ]
  },
  {
   "cell_type": "code",
   "execution_count": 48,
   "id": "8771afba-0ea9-47cd-a6a8-d60cf20c24e2",
   "metadata": {},
   "outputs": [
    {
     "data": {
      "text/plain": [
       "['loc_apt1_Mon_Rach',\n",
       " 'loc_apt2_Chan_Joey',\n",
       " 'loc_apt3_Ross',\n",
       " 'loc_apt4_Pheob_Rach',\n",
       " 'loc_coffeeshop',\n",
       " 'loc_outside',\n",
       " 'loc_other']"
      ]
     },
     "execution_count": 48,
     "metadata": {},
     "output_type": "execute_result"
    }
   ],
   "source": [
    "col_loc = [c for c in df_manual_seg.columns if 'loc_' in c]\n",
    "col_loc"
   ]
  },
  {
   "cell_type": "code",
   "execution_count": 49,
   "id": "64a37770-f7a5-4bb7-91e3-b968bb284a07",
   "metadata": {
    "scrolled": true
   },
   "outputs": [
    {
     "data": {
      "text/html": [
       "<div>\n",
       "<style scoped>\n",
       "    .dataframe tbody tr th:only-of-type {\n",
       "        vertical-align: middle;\n",
       "    }\n",
       "\n",
       "    .dataframe tbody tr th {\n",
       "        vertical-align: top;\n",
       "    }\n",
       "\n",
       "    .dataframe thead th {\n",
       "        text-align: right;\n",
       "    }\n",
       "</style>\n",
       "<table border=\"1\" class=\"dataframe\">\n",
       "  <thead>\n",
       "    <tr style=\"text-align: right;\">\n",
       "      <th></th>\n",
       "      <th>loc_apt1_Mon_Rach</th>\n",
       "      <th>loc_apt2_Chan_Joey</th>\n",
       "      <th>loc_apt3_Ross</th>\n",
       "      <th>loc_apt4_Pheob_Rach</th>\n",
       "      <th>loc_coffeeshop</th>\n",
       "      <th>loc_outside</th>\n",
       "      <th>loc_other</th>\n",
       "    </tr>\n",
       "  </thead>\n",
       "  <tbody>\n",
       "    <tr>\n",
       "      <th>0</th>\n",
       "      <td>False</td>\n",
       "      <td>False</td>\n",
       "      <td>False</td>\n",
       "      <td>False</td>\n",
       "      <td>False</td>\n",
       "      <td>False</td>\n",
       "      <td>False</td>\n",
       "    </tr>\n",
       "    <tr>\n",
       "      <th>1</th>\n",
       "      <td>False</td>\n",
       "      <td>False</td>\n",
       "      <td>False</td>\n",
       "      <td>False</td>\n",
       "      <td>False</td>\n",
       "      <td>True</td>\n",
       "      <td>False</td>\n",
       "    </tr>\n",
       "    <tr>\n",
       "      <th>2</th>\n",
       "      <td>False</td>\n",
       "      <td>False</td>\n",
       "      <td>False</td>\n",
       "      <td>False</td>\n",
       "      <td>True</td>\n",
       "      <td>False</td>\n",
       "      <td>False</td>\n",
       "    </tr>\n",
       "    <tr>\n",
       "      <th>3</th>\n",
       "      <td>False</td>\n",
       "      <td>False</td>\n",
       "      <td>False</td>\n",
       "      <td>False</td>\n",
       "      <td>True</td>\n",
       "      <td>False</td>\n",
       "      <td>False</td>\n",
       "    </tr>\n",
       "    <tr>\n",
       "      <th>4</th>\n",
       "      <td>False</td>\n",
       "      <td>False</td>\n",
       "      <td>False</td>\n",
       "      <td>False</td>\n",
       "      <td>True</td>\n",
       "      <td>False</td>\n",
       "      <td>False</td>\n",
       "    </tr>\n",
       "    <tr>\n",
       "      <th>...</th>\n",
       "      <td>...</td>\n",
       "      <td>...</td>\n",
       "      <td>...</td>\n",
       "      <td>...</td>\n",
       "      <td>...</td>\n",
       "      <td>...</td>\n",
       "      <td>...</td>\n",
       "    </tr>\n",
       "    <tr>\n",
       "      <th>6218</th>\n",
       "      <td>True</td>\n",
       "      <td>False</td>\n",
       "      <td>False</td>\n",
       "      <td>False</td>\n",
       "      <td>False</td>\n",
       "      <td>False</td>\n",
       "      <td>False</td>\n",
       "    </tr>\n",
       "    <tr>\n",
       "      <th>6219</th>\n",
       "      <td>True</td>\n",
       "      <td>False</td>\n",
       "      <td>False</td>\n",
       "      <td>False</td>\n",
       "      <td>False</td>\n",
       "      <td>False</td>\n",
       "      <td>False</td>\n",
       "    </tr>\n",
       "    <tr>\n",
       "      <th>6220</th>\n",
       "      <td>True</td>\n",
       "      <td>False</td>\n",
       "      <td>False</td>\n",
       "      <td>False</td>\n",
       "      <td>False</td>\n",
       "      <td>False</td>\n",
       "      <td>False</td>\n",
       "    </tr>\n",
       "    <tr>\n",
       "      <th>6221</th>\n",
       "      <td>True</td>\n",
       "      <td>False</td>\n",
       "      <td>False</td>\n",
       "      <td>False</td>\n",
       "      <td>False</td>\n",
       "      <td>False</td>\n",
       "      <td>False</td>\n",
       "    </tr>\n",
       "    <tr>\n",
       "      <th>6222</th>\n",
       "      <td>True</td>\n",
       "      <td>False</td>\n",
       "      <td>False</td>\n",
       "      <td>False</td>\n",
       "      <td>False</td>\n",
       "      <td>False</td>\n",
       "      <td>False</td>\n",
       "    </tr>\n",
       "  </tbody>\n",
       "</table>\n",
       "<p>6223 rows × 7 columns</p>\n",
       "</div>"
      ],
      "text/plain": [
       "      loc_apt1_Mon_Rach  loc_apt2_Chan_Joey  loc_apt3_Ross  \\\n",
       "0                 False               False          False   \n",
       "1                 False               False          False   \n",
       "2                 False               False          False   \n",
       "3                 False               False          False   \n",
       "4                 False               False          False   \n",
       "...                 ...                 ...            ...   \n",
       "6218               True               False          False   \n",
       "6219               True               False          False   \n",
       "6220               True               False          False   \n",
       "6221               True               False          False   \n",
       "6222               True               False          False   \n",
       "\n",
       "      loc_apt4_Pheob_Rach  loc_coffeeshop  loc_outside  loc_other  \n",
       "0                   False           False        False      False  \n",
       "1                   False           False         True      False  \n",
       "2                   False            True        False      False  \n",
       "3                   False            True        False      False  \n",
       "4                   False            True        False      False  \n",
       "...                   ...             ...          ...        ...  \n",
       "6218                False           False        False      False  \n",
       "6219                False           False        False      False  \n",
       "6220                False           False        False      False  \n",
       "6221                False           False        False      False  \n",
       "6222                False           False        False      False  \n",
       "\n",
       "[6223 rows x 7 columns]"
      ]
     },
     "execution_count": 49,
     "metadata": {},
     "output_type": "execute_result"
    }
   ],
   "source": [
    "df_manual_seg[col_loc]"
   ]
  },
  {
   "cell_type": "code",
   "execution_count": 45,
   "id": "47d04b25-4927-45cb-bee9-284113f9ad3c",
   "metadata": {},
   "outputs": [],
   "source": [
    "df_manual_seg.to_csv(\"manual_segmentation_all.tsv\", sep=\"\\t\", index=False)"
   ]
  },
  {
   "cell_type": "code",
   "execution_count": null,
   "id": "b655ec32-416e-46bc-98d0-9d92e6ea65f6",
   "metadata": {},
   "outputs": [],
   "source": []
  }
 ],
 "metadata": {
  "kernelspec": {
   "display_name": "Python (venv)",
   "language": "python",
   "name": "venv"
  },
  "language_info": {
   "codemirror_mode": {
    "name": "ipython",
    "version": 3
   },
   "file_extension": ".py",
   "mimetype": "text/x-python",
   "name": "python",
   "nbconvert_exporter": "python",
   "pygments_lexer": "ipython3",
   "version": "3.12.3"
  }
 },
 "nbformat": 4,
 "nbformat_minor": 5
}
