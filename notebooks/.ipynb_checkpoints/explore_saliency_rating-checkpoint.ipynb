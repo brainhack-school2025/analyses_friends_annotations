{
 "cells": [
  {
   "cell_type": "code",
   "execution_count": 2,
   "id": "bfb1fb7e-fbf9-4575-b618-2440a656cb9a",
   "metadata": {},
   "outputs": [],
   "source": [
    "import numpy as np\n",
    "import pandas as pd\n",
    "import os"
   ]
  },
  {
   "cell_type": "code",
   "execution_count": 23,
   "id": "7a76ba8b-c629-43f8-b2db-fb91b231c07c",
   "metadata": {},
   "outputs": [],
   "source": [
    "data = np.load('/mnt/c/Temp/analyses_friends_annotations/friends_annotations/annotation_results/DeepgazeMr/s1/friends_s01e01a_locmax_pixel_hw.npz', allow_pickle=True)"
   ]
  },
  {
   "cell_type": "code",
   "execution_count": 24,
   "id": "bb20c7a9-8095-4a7e-bf6f-bbea3335c260",
   "metadata": {},
   "outputs": [
    {
     "data": {
      "text/plain": [
       "['deepgaze_vals']"
      ]
     },
     "execution_count": 24,
     "metadata": {},
     "output_type": "execute_result"
    }
   ],
   "source": [
    "data.files\n"
   ]
  },
  {
   "cell_type": "code",
   "execution_count": 25,
   "id": "6af70d42-4292-48d3-9671-ca33ce0862a0",
   "metadata": {},
   "outputs": [
    {
     "name": "stdout",
     "output_type": "stream",
     "text": [
      "[array([[  2.02783107, 215.        , 359.        ]])\n",
      " array([[  2.02783107, 215.        , 359.        ]])\n",
      " array([[  2.02783107, 215.        , 359.        ]]) ...\n",
      " array([[  2.0278174, 215.       , 359.       ]])\n",
      " array([[  2.0278174, 215.       , 359.       ]])\n",
      " array([[  2.0278174, 215.       , 359.       ]])]\n"
     ]
    }
   ],
   "source": [
    "print(data['deepgaze_vals'])"
   ]
  },
  {
   "cell_type": "code",
   "execution_count": 30,
   "id": "7e52ea20-bbf4-4136-aab5-36066b6020ff",
   "metadata": {
    "scrolled": true
   },
   "outputs": [
    {
     "data": {
      "text/plain": [
       "array([[  1.64867289, 198.        , 202.        ],\n",
       "       [  1.56977841, 206.        , 487.        ],\n",
       "       [  1.556688  , 303.        , 398.        ],\n",
       "       [  1.55583427, 243.        , 366.        ],\n",
       "       [  1.54609601, 134.        , 410.        ],\n",
       "       [  1.44595557, 297.        , 175.        ],\n",
       "       [  1.42273553, 140.        , 258.        ]])"
      ]
     },
     "execution_count": 30,
     "metadata": {},
     "output_type": "execute_result"
    }
   ],
   "source": [
    "data['deepgaze_vals'][261]"
   ]
  },
  {
   "cell_type": "code",
   "execution_count": null,
   "id": "df25f9dd-f084-41ae-868f-56ee951c3c5d",
   "metadata": {},
   "outputs": [],
   "source": [
    "#flatten everyting into one dataset pd ? so like column would be ep,frame, w, h, saliency. would be able to merge with previous data set"
   ]
  }
 ],
 "metadata": {
  "kernelspec": {
   "display_name": "Python (venv)",
   "language": "python",
   "name": "venv"
  },
  "language_info": {
   "codemirror_mode": {
    "name": "ipython",
    "version": 3
   },
   "file_extension": ".py",
   "mimetype": "text/x-python",
   "name": "python",
   "nbconvert_exporter": "python",
   "pygments_lexer": "ipython3",
   "version": "3.12.3"
  }
 },
 "nbformat": 4,
 "nbformat_minor": 5
}
