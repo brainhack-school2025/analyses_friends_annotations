{
 "cells": [
  {
   "cell_type": "markdown",
   "id": "16a9ce3d-cbd8-48ca-9972-3f50416d466c",
   "metadata": {},
   "source": [
    "# Data preprocessing for max peak dayaset"
   ]
  },
  {
   "cell_type": "markdown",
   "id": "b4a39a7f-51e9-4f24-be11-47d74995cf97",
   "metadata": {},
   "source": [
    "import libraries"
   ]
  },
  {
   "cell_type": "code",
   "execution_count": 1,
   "id": "dd9ea83d-652f-4d35-bf7d-d0542e4c1471",
   "metadata": {},
   "outputs": [],
   "source": [
    "import numpy as np\n",
    "import pandas as pd\n",
    "import friends_pack"
   ]
  },
  {
   "cell_type": "markdown",
   "id": "60f014eb-5d1a-4b46-bcfa-6b87d2ba78e7",
   "metadata": {},
   "source": [
    "convert data into a pandas dataframe"
   ]
  },
  {
   "cell_type": "code",
   "execution_count": 2,
   "id": "839bae0b-84b5-4c4d-b308-57eb5c2da88a",
   "metadata": {},
   "outputs": [],
   "source": [
    "df_max_peak = friends_pack.tsv_to_df(\"../friends_annotations/annotation_results/DeepgazeMr\", '_maxpeak_coord.tsv')"
   ]
  },
  {
   "cell_type": "markdown",
   "id": "af629271-b39e-4b0d-bbb8-58c8f28ef668",
   "metadata": {},
   "source": [
    "add rows for analyses"
   ]
  },
  {
   "cell_type": "code",
   "execution_count": 3,
   "id": "910fee1f-002e-44ac-bad6-6d5a351f9756",
   "metadata": {},
   "outputs": [],
   "source": [
    "#add total frames\n",
    "df_max_peak['frame'] = df_max_peak.index + 1\n",
    "\n",
    "# Add episode-relative frame number that resets for each episode\n",
    "df_max_peak[\"episode_frame\"] = df_max_peak.groupby(\"episode\").cumcount() + 1\n"
   ]
  },
  {
   "cell_type": "code",
   "execution_count": 4,
   "id": "38dccc9c-5c4f-4a42-8be8-1a2be15b57ff",
   "metadata": {},
   "outputs": [
    {
     "data": {
      "text/html": [
       "<div>\n",
       "<style scoped>\n",
       "    .dataframe tbody tr th:only-of-type {\n",
       "        vertical-align: middle;\n",
       "    }\n",
       "\n",
       "    .dataframe tbody tr th {\n",
       "        vertical-align: top;\n",
       "    }\n",
       "\n",
       "    .dataframe thead th {\n",
       "        text-align: right;\n",
       "    }\n",
       "</style>\n",
       "<table border=\"1\" class=\"dataframe\">\n",
       "  <thead>\n",
       "    <tr style=\"text-align: right;\">\n",
       "      <th></th>\n",
       "      <th>h</th>\n",
       "      <th>w</th>\n",
       "      <th>p</th>\n",
       "      <th>episode</th>\n",
       "      <th>frame</th>\n",
       "      <th>episode_frame</th>\n",
       "    </tr>\n",
       "  </thead>\n",
       "  <tbody>\n",
       "    <tr>\n",
       "      <th>0</th>\n",
       "      <td>215</td>\n",
       "      <td>359</td>\n",
       "      <td>1</td>\n",
       "      <td>friends_s01e01a</td>\n",
       "      <td>1</td>\n",
       "      <td>1</td>\n",
       "    </tr>\n",
       "    <tr>\n",
       "      <th>1</th>\n",
       "      <td>215</td>\n",
       "      <td>359</td>\n",
       "      <td>1</td>\n",
       "      <td>friends_s01e01a</td>\n",
       "      <td>2</td>\n",
       "      <td>2</td>\n",
       "    </tr>\n",
       "    <tr>\n",
       "      <th>2</th>\n",
       "      <td>215</td>\n",
       "      <td>359</td>\n",
       "      <td>1</td>\n",
       "      <td>friends_s01e01a</td>\n",
       "      <td>3</td>\n",
       "      <td>3</td>\n",
       "    </tr>\n",
       "    <tr>\n",
       "      <th>3</th>\n",
       "      <td>215</td>\n",
       "      <td>359</td>\n",
       "      <td>1</td>\n",
       "      <td>friends_s01e01a</td>\n",
       "      <td>4</td>\n",
       "      <td>4</td>\n",
       "    </tr>\n",
       "    <tr>\n",
       "      <th>4</th>\n",
       "      <td>215</td>\n",
       "      <td>359</td>\n",
       "      <td>1</td>\n",
       "      <td>friends_s01e01a</td>\n",
       "      <td>5</td>\n",
       "      <td>5</td>\n",
       "    </tr>\n",
       "    <tr>\n",
       "      <th>...</th>\n",
       "      <td>...</td>\n",
       "      <td>...</td>\n",
       "      <td>...</td>\n",
       "      <td>...</td>\n",
       "      <td>...</td>\n",
       "      <td>...</td>\n",
       "    </tr>\n",
       "    <tr>\n",
       "      <th>7178291</th>\n",
       "      <td>215</td>\n",
       "      <td>359</td>\n",
       "      <td>1</td>\n",
       "      <td>friends_s07e23d</td>\n",
       "      <td>7178292</td>\n",
       "      <td>22976</td>\n",
       "    </tr>\n",
       "    <tr>\n",
       "      <th>7178292</th>\n",
       "      <td>215</td>\n",
       "      <td>359</td>\n",
       "      <td>1</td>\n",
       "      <td>friends_s07e23d</td>\n",
       "      <td>7178293</td>\n",
       "      <td>22977</td>\n",
       "    </tr>\n",
       "    <tr>\n",
       "      <th>7178293</th>\n",
       "      <td>215</td>\n",
       "      <td>359</td>\n",
       "      <td>1</td>\n",
       "      <td>friends_s07e23d</td>\n",
       "      <td>7178294</td>\n",
       "      <td>22978</td>\n",
       "    </tr>\n",
       "    <tr>\n",
       "      <th>7178294</th>\n",
       "      <td>215</td>\n",
       "      <td>359</td>\n",
       "      <td>1</td>\n",
       "      <td>friends_s07e23d</td>\n",
       "      <td>7178295</td>\n",
       "      <td>22979</td>\n",
       "    </tr>\n",
       "    <tr>\n",
       "      <th>7178295</th>\n",
       "      <td>215</td>\n",
       "      <td>359</td>\n",
       "      <td>1</td>\n",
       "      <td>friends_s07e23d</td>\n",
       "      <td>7178296</td>\n",
       "      <td>22980</td>\n",
       "    </tr>\n",
       "  </tbody>\n",
       "</table>\n",
       "<p>7178296 rows × 6 columns</p>\n",
       "</div>"
      ],
      "text/plain": [
       "           h    w  p          episode    frame  episode_frame\n",
       "0        215  359  1  friends_s01e01a        1              1\n",
       "1        215  359  1  friends_s01e01a        2              2\n",
       "2        215  359  1  friends_s01e01a        3              3\n",
       "3        215  359  1  friends_s01e01a        4              4\n",
       "4        215  359  1  friends_s01e01a        5              5\n",
       "...      ...  ... ..              ...      ...            ...\n",
       "7178291  215  359  1  friends_s07e23d  7178292          22976\n",
       "7178292  215  359  1  friends_s07e23d  7178293          22977\n",
       "7178293  215  359  1  friends_s07e23d  7178294          22978\n",
       "7178294  215  359  1  friends_s07e23d  7178295          22979\n",
       "7178295  215  359  1  friends_s07e23d  7178296          22980\n",
       "\n",
       "[7178296 rows x 6 columns]"
      ]
     },
     "execution_count": 4,
     "metadata": {},
     "output_type": "execute_result"
    }
   ],
   "source": [
    "\n",
    "df_max_peak\n"
   ]
  },
  {
   "cell_type": "markdown",
   "id": "3c692718-e7ee-4640-980e-492088df1408",
   "metadata": {},
   "source": [
    "get some description of the data"
   ]
  },
  {
   "cell_type": "code",
   "execution_count": 5,
   "id": "d35745b2-bbad-4681-a3ce-49aed5e9ef8c",
   "metadata": {},
   "outputs": [
    {
     "name": "stdout",
     "output_type": "stream",
     "text": [
      "                  h             w             p         frame  episode_frame\n",
      "count  7.178296e+06  7.178296e+06  7.178296e+06  7.178296e+06   7.178296e+06\n",
      "mean   1.611584e+02  3.609861e+02  1.639282e+00  3.589148e+06   1.058529e+04\n",
      "std    4.677533e+01  9.460282e+01  9.633461e-01  2.072196e+06   6.149400e+03\n",
      "min    0.000000e+00  0.000000e+00  0.000000e+00  1.000000e+00   1.000000e+00\n",
      "25%    1.320000e+02  2.970000e+02  1.000000e+00  1.794575e+06   5.277000e+03\n",
      "50%    1.520000e+02  3.590000e+02  1.000000e+00  3.589148e+06   1.055500e+04\n",
      "75%    1.790000e+02  4.250000e+02  2.000000e+00  5.383722e+06   1.583300e+04\n",
      "max    4.790000e+02  7.000000e+02  1.300000e+01  7.178296e+06   2.680400e+04\n"
     ]
    }
   ],
   "source": [
    "\n",
    "# Display the result\n",
    "print(df_max_peak.describe())"
   ]
  },
  {
   "cell_type": "markdown",
   "id": "d767d31c-d815-4e11-b468-be49189a207c",
   "metadata": {},
   "source": [
    "save your dataframe into a tsv file"
   ]
  },
  {
   "cell_type": "code",
   "execution_count": 6,
   "id": "59817c5f-4365-4221-97ea-531657ba984f",
   "metadata": {},
   "outputs": [],
   "source": [
    "df_max_peak.to_csv(\"../output/max_peak_data.tsv\", sep=\"\\t\", index=False)"
   ]
  }
 ],
 "metadata": {
  "kernelspec": {
   "display_name": "Python 3 (ipykernel)",
   "language": "python",
   "name": "python3"
  },
  "language_info": {
   "codemirror_mode": {
    "name": "ipython",
    "version": 3
   },
   "file_extension": ".py",
   "mimetype": "text/x-python",
   "name": "python",
   "nbconvert_exporter": "python",
   "pygments_lexer": "ipython3",
   "version": "3.13.2"
  }
 },
 "nbformat": 4,
 "nbformat_minor": 5
}
