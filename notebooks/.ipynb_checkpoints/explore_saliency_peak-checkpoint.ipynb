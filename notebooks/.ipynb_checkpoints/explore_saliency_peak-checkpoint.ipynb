{
 "cells": [
  {
   "cell_type": "code",
   "execution_count": 8,
   "id": "dd9ea83d-652f-4d35-bf7d-d0542e4c1471",
   "metadata": {},
   "outputs": [],
   "source": [
    "import numpy as np\n",
    "import pandas as pd\n",
    "import sys\n",
    "sys.path.append(\"../module\")\n",
    "import load\n",
    "\n",
    "# Combine all data into one dataframe for maxpeak\n",
    "df_max_peak = load.tsv_to_df(\"/home/cleode5a7/Desktop/analyses_friends_annotations/friends_annotations/annotation_results/DeepgazeMr\", '_maxpeak_coord.tsv')\n",
    "\n",
    "#import scenes data tsv\n",
    "\n",
    "\n",
    "\n",
    "\n"
   ]
  },
  {
   "cell_type": "code",
   "execution_count": 9,
   "id": "910fee1f-002e-44ac-bad6-6d5a351f9756",
   "metadata": {},
   "outputs": [],
   "source": [
    "#add total frames\n",
    "df_max_peak['frame'] = df_max_peak.index + 1\n",
    "\n",
    "# Ensure sorting by episode and global frame (just in case)\n",
    "df_max_peak = df_max_peak.sort_values(by=[\"episode\", \"frame\"]).reset_index(drop=True)\n",
    "\n",
    "# Add episode-relative frame number that resets for each episode\n",
    "df_max_peak[\"episode_frame\"] = df_max_peak.groupby(\"episode\").cumcount() + 1\n"
   ]
  },
  {
   "cell_type": "code",
   "execution_count": 10,
   "id": "d35745b2-bbad-4681-a3ce-49aed5e9ef8c",
   "metadata": {},
   "outputs": [
    {
     "name": "stdout",
     "output_type": "stream",
     "text": [
      "                  h             w             p         frame  episode_frame\n",
      "count  7.178296e+06  7.178296e+06  7.178296e+06  7.178296e+06   7.178296e+06\n",
      "mean   1.611584e+02  3.609861e+02  1.639282e+00  3.589148e+06   1.058529e+04\n",
      "std    4.677533e+01  9.460282e+01  9.633461e-01  2.072196e+06   6.149400e+03\n",
      "min    0.000000e+00  0.000000e+00  0.000000e+00  1.000000e+00   1.000000e+00\n",
      "25%    1.320000e+02  2.970000e+02  1.000000e+00  1.794575e+06   5.277000e+03\n",
      "50%    1.520000e+02  3.590000e+02  1.000000e+00  3.589148e+06   1.055500e+04\n",
      "75%    1.790000e+02  4.250000e+02  2.000000e+00  5.383722e+06   1.583300e+04\n",
      "max    4.790000e+02  7.000000e+02  1.300000e+01  7.178296e+06   2.680400e+04\n"
     ]
    }
   ],
   "source": [
    "\n",
    "# Display the result\n",
    "print(df_max_peak.describe())"
   ]
  },
  {
   "cell_type": "code",
   "execution_count": 7,
   "id": "38dccc9c-5c4f-4a42-8be8-1a2be15b57ff",
   "metadata": {},
   "outputs": [
    {
     "name": "stdout",
     "output_type": "stream",
     "text": [
      "           h    w  p          episode    frame  episode_frame\n",
      "0        215  359  1  friends_s01e01a        1              1\n",
      "1        215  359  1  friends_s01e01a        2              2\n",
      "2        215  359  1  friends_s01e01a        3              3\n",
      "3        215  359  1  friends_s01e01a        4              4\n",
      "4        215  359  1  friends_s01e01a        5              5\n",
      "...      ...  ... ..              ...      ...            ...\n",
      "7178291  215  359  1  friends_s07e23d  7178292          22976\n",
      "7178292  215  359  1  friends_s07e23d  7178293          22977\n",
      "7178293  215  359  1  friends_s07e23d  7178294          22978\n",
      "7178294  215  359  1  friends_s07e23d  7178295          22979\n",
      "7178295  215  359  1  friends_s07e23d  7178296          22980\n",
      "\n",
      "[7178296 rows x 6 columns]\n"
     ]
    }
   ],
   "source": [
    "\n",
    "print(df_max_peak)\n"
   ]
  },
  {
   "cell_type": "code",
   "execution_count": 13,
   "id": "6027aef2-83c8-4bbc-ad9b-e88745d01434",
   "metadata": {},
   "outputs": [
    {
     "data": {
      "text/html": [
       "<div>\n",
       "<style scoped>\n",
       "    .dataframe tbody tr th:only-of-type {\n",
       "        vertical-align: middle;\n",
       "    }\n",
       "\n",
       "    .dataframe tbody tr th {\n",
       "        vertical-align: top;\n",
       "    }\n",
       "\n",
       "    .dataframe thead th {\n",
       "        text-align: right;\n",
       "    }\n",
       "</style>\n",
       "<table border=\"1\" class=\"dataframe\">\n",
       "  <thead>\n",
       "    <tr style=\"text-align: right;\">\n",
       "      <th></th>\n",
       "      <th>h</th>\n",
       "      <th>w</th>\n",
       "      <th>p</th>\n",
       "      <th>episode</th>\n",
       "      <th>frame</th>\n",
       "      <th>episode_frame</th>\n",
       "    </tr>\n",
       "  </thead>\n",
       "  <tbody>\n",
       "    <tr>\n",
       "      <th>6066127</th>\n",
       "      <td>215</td>\n",
       "      <td>359</td>\n",
       "      <td>1</td>\n",
       "      <td>friends_s06e24b</td>\n",
       "      <td>6066128</td>\n",
       "      <td>1</td>\n",
       "    </tr>\n",
       "    <tr>\n",
       "      <th>6066128</th>\n",
       "      <td>219</td>\n",
       "      <td>359</td>\n",
       "      <td>1</td>\n",
       "      <td>friends_s06e24b</td>\n",
       "      <td>6066129</td>\n",
       "      <td>2</td>\n",
       "    </tr>\n",
       "    <tr>\n",
       "      <th>6066129</th>\n",
       "      <td>231</td>\n",
       "      <td>370</td>\n",
       "      <td>2</td>\n",
       "      <td>friends_s06e24b</td>\n",
       "      <td>6066130</td>\n",
       "      <td>3</td>\n",
       "    </tr>\n",
       "    <tr>\n",
       "      <th>6066130</th>\n",
       "      <td>206</td>\n",
       "      <td>397</td>\n",
       "      <td>2</td>\n",
       "      <td>friends_s06e24b</td>\n",
       "      <td>6066131</td>\n",
       "      <td>4</td>\n",
       "    </tr>\n",
       "    <tr>\n",
       "      <th>6066131</th>\n",
       "      <td>207</td>\n",
       "      <td>401</td>\n",
       "      <td>2</td>\n",
       "      <td>friends_s06e24b</td>\n",
       "      <td>6066132</td>\n",
       "      <td>5</td>\n",
       "    </tr>\n",
       "    <tr>\n",
       "      <th>...</th>\n",
       "      <td>...</td>\n",
       "      <td>...</td>\n",
       "      <td>...</td>\n",
       "      <td>...</td>\n",
       "      <td>...</td>\n",
       "      <td>...</td>\n",
       "    </tr>\n",
       "    <tr>\n",
       "      <th>6086684</th>\n",
       "      <td>215</td>\n",
       "      <td>359</td>\n",
       "      <td>1</td>\n",
       "      <td>friends_s06e24b</td>\n",
       "      <td>6086685</td>\n",
       "      <td>20558</td>\n",
       "    </tr>\n",
       "    <tr>\n",
       "      <th>6086685</th>\n",
       "      <td>215</td>\n",
       "      <td>359</td>\n",
       "      <td>1</td>\n",
       "      <td>friends_s06e24b</td>\n",
       "      <td>6086686</td>\n",
       "      <td>20559</td>\n",
       "    </tr>\n",
       "    <tr>\n",
       "      <th>6086686</th>\n",
       "      <td>215</td>\n",
       "      <td>359</td>\n",
       "      <td>1</td>\n",
       "      <td>friends_s06e24b</td>\n",
       "      <td>6086687</td>\n",
       "      <td>20560</td>\n",
       "    </tr>\n",
       "    <tr>\n",
       "      <th>6086687</th>\n",
       "      <td>215</td>\n",
       "      <td>359</td>\n",
       "      <td>1</td>\n",
       "      <td>friends_s06e24b</td>\n",
       "      <td>6086688</td>\n",
       "      <td>20561</td>\n",
       "    </tr>\n",
       "    <tr>\n",
       "      <th>6086688</th>\n",
       "      <td>215</td>\n",
       "      <td>359</td>\n",
       "      <td>1</td>\n",
       "      <td>friends_s06e24b</td>\n",
       "      <td>6086689</td>\n",
       "      <td>20562</td>\n",
       "    </tr>\n",
       "  </tbody>\n",
       "</table>\n",
       "<p>20562 rows × 6 columns</p>\n",
       "</div>"
      ],
      "text/plain": [
       "           h    w  p          episode    frame  episode_frame\n",
       "6066127  215  359  1  friends_s06e24b  6066128              1\n",
       "6066128  219  359  1  friends_s06e24b  6066129              2\n",
       "6066129  231  370  2  friends_s06e24b  6066130              3\n",
       "6066130  206  397  2  friends_s06e24b  6066131              4\n",
       "6066131  207  401  2  friends_s06e24b  6066132              5\n",
       "...      ...  ... ..              ...      ...            ...\n",
       "6086684  215  359  1  friends_s06e24b  6086685          20558\n",
       "6086685  215  359  1  friends_s06e24b  6086686          20559\n",
       "6086686  215  359  1  friends_s06e24b  6086687          20560\n",
       "6086687  215  359  1  friends_s06e24b  6086688          20561\n",
       "6086688  215  359  1  friends_s06e24b  6086689          20562\n",
       "\n",
       "[20562 rows x 6 columns]"
      ]
     },
     "execution_count": 13,
     "metadata": {},
     "output_type": "execute_result"
    }
   ],
   "source": [
    "df_max_peak[df_max_peak[\"episode\"] == \"friends_s06e24b\"]\n"
   ]
  },
  {
   "cell_type": "code",
   "execution_count": 12,
   "id": "a2212d60-a830-4692-9efb-46630bb7419e",
   "metadata": {},
   "outputs": [],
   "source": [
    "df_max_peak.to_csv(\"../output/max_peak_data.tsv\", sep=\"\\t\", index=False)"
   ]
  },
  {
   "cell_type": "code",
   "execution_count": 13,
   "id": "b03d5f8e-8746-4064-95ea-afb3ab74c665",
   "metadata": {},
   "outputs": [],
   "source": [
    "min_value = df_max_peak['h'].idxmin()"
   ]
  },
  {
   "cell_type": "code",
   "execution_count": 14,
   "id": "1538b3a2-bd52-49bb-834c-e55444ce77f7",
   "metadata": {},
   "outputs": [
    {
     "data": {
      "text/plain": [
       "99708"
      ]
     },
     "execution_count": 14,
     "metadata": {},
     "output_type": "execute_result"
    }
   ],
   "source": [
    "min_value"
   ]
  },
  {
   "cell_type": "code",
   "execution_count": 15,
   "id": "99ae312f-000b-47a5-bc02-c6a2bb65b60d",
   "metadata": {},
   "outputs": [],
   "source": [
    "min_row = df_max_peak.loc[99708]"
   ]
  },
  {
   "cell_type": "code",
   "execution_count": 16,
   "id": "cc186dff-a818-4b69-96c4-c96f485127be",
   "metadata": {},
   "outputs": [
    {
     "data": {
      "text/plain": [
       "h                              0\n",
       "w                            189\n",
       "p                              3\n",
       "episode          friends_s01e03a\n",
       "frame                      99709\n",
       "episode_frame               3872\n",
       "Name: 99708, dtype: object"
      ]
     },
     "execution_count": 16,
     "metadata": {},
     "output_type": "execute_result"
    }
   ],
   "source": [
    "min_row"
   ]
  },
  {
   "cell_type": "code",
   "execution_count": 18,
   "id": "6e2088e0-42f2-45a4-a870-189869a9c2a2",
   "metadata": {},
   "outputs": [
    {
     "data": {
      "text/plain": [
       "h                 int64\n",
       "w                 int64\n",
       "p                 int64\n",
       "episode          object\n",
       "frame             int64\n",
       "episode_frame     int64\n",
       "dtype: object"
      ]
     },
     "execution_count": 18,
     "metadata": {},
     "output_type": "execute_result"
    }
   ],
   "source": [
    "df_max_peak.dtypes"
   ]
  },
  {
   "cell_type": "code",
   "execution_count": null,
   "id": "b8cf0a29-fbbf-4d3b-a409-1144a7a85382",
   "metadata": {},
   "outputs": [],
   "source": []
  }
 ],
 "metadata": {
  "kernelspec": {
   "display_name": "Python 3 (ipykernel)",
   "language": "python",
   "name": "python3"
  },
  "language_info": {
   "codemirror_mode": {
    "name": "ipython",
    "version": 3
   },
   "file_extension": ".py",
   "mimetype": "text/x-python",
   "name": "python",
   "nbconvert_exporter": "python",
   "pygments_lexer": "ipython3",
   "version": "3.13.2"
  }
 },
 "nbformat": 4,
 "nbformat_minor": 5
}
