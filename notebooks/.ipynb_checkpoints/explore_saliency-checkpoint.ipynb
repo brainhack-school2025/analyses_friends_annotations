{
 "cells": [
  {
   "cell_type": "code",
   "execution_count": 5,
   "id": "dd9ea83d-652f-4d35-bf7d-d0542e4c1471",
   "metadata": {},
   "outputs": [],
   "source": [
    "import numpy as np\n",
    "import pandas as pd\n",
    "import os\n",
    "from glob import glob\n",
    "base_path = \"/mnt/c/Temp/analyses_friends_annotations/friends_annotations/annotation_results/DeepgazeMr\"\n",
    "tsv_files = glob(os.path.join(base_path, '**', '*.tsv'), recursive=True)\n",
    "all_data = []\n",
    "\n",
    "for file in tsv_files:\n",
    "    # Read TSV, skipping the header row if present\n",
    "    df = pd.read_csv(file, sep='\\t', header=0, names=['h', 'w', 'num_local_maxima'], dtype=str)\n",
    "\n",
    "    \n",
    "    # Convert to numeric types (invalid values become NaN)\n",
    "    df['h'] = pd.to_numeric(df['h'], errors='coerce')\n",
    "    df['w'] = pd.to_numeric(df['w'], errors='coerce')\n",
    "    df['num_local_maxima'] = pd.to_numeric(df['num_local_maxima'], errors='coerce')\n",
    "\n",
    "    # Drop rows with any NaNs (i.e., those that failed numeric conversion)\n",
    "    df = df.dropna(subset=['h', 'w', 'num_local_maxima'])\n",
    "\n",
    "    # Extract episode name from filename\n",
    "    episode = os.path.basename(file).replace('_maxpeak_coord.tsv', '')\n",
    "    df['episode'] = episode\n",
    "\n",
    "    all_data.append(df)\n",
    "\n",
    "# Combine all data into one dataframe\n",
    "df_all = pd.concat(all_data, ignore_index=True)\n"
   ]
  },
  {
   "cell_type": "code",
   "execution_count": 46,
   "id": "d35745b2-bbad-4681-a3ce-49aed5e9ef8c",
   "metadata": {},
   "outputs": [
    {
     "name": "stdout",
     "output_type": "stream",
     "text": [
      "                  h             w  num_local_maxima\n",
      "count  7.178296e+06  7.178296e+06      7.178296e+06\n",
      "mean   1.611584e+02  3.609861e+02      1.639282e+00\n",
      "std    4.677533e+01  9.460282e+01      9.633461e-01\n",
      "min    0.000000e+00  0.000000e+00      0.000000e+00\n",
      "25%    1.320000e+02  2.970000e+02      1.000000e+00\n",
      "50%    1.520000e+02  3.590000e+02      1.000000e+00\n",
      "75%    1.790000e+02  4.250000e+02      2.000000e+00\n",
      "max    4.790000e+02  7.000000e+02      1.300000e+01\n"
     ]
    }
   ],
   "source": [
    "\n",
    "# Display the result\n",
    "print(df_all.describe())"
   ]
  },
  {
   "cell_type": "code",
   "execution_count": 6,
   "id": "38dccc9c-5c4f-4a42-8be8-1a2be15b57ff",
   "metadata": {},
   "outputs": [
    {
     "name": "stdout",
     "output_type": "stream",
     "text": [
      "           h    w  num_local_maxima          episode\n",
      "0        215  359                 1  friends_s01e01a\n",
      "1        215  359                 1  friends_s01e01a\n",
      "2        215  359                 1  friends_s01e01a\n",
      "3        215  359                 1  friends_s01e01a\n",
      "4        215  359                 1  friends_s01e01a\n",
      "...      ...  ...               ...              ...\n",
      "7178291  215  359                 1  friends_s07e23d\n",
      "7178292  215  359                 1  friends_s07e23d\n",
      "7178293  215  359                 1  friends_s07e23d\n",
      "7178294  215  359                 1  friends_s07e23d\n",
      "7178295  215  359                 1  friends_s07e23d\n",
      "\n",
      "[7178296 rows x 4 columns]\n"
     ]
    }
   ],
   "source": [
    "\n",
    "print(df_all)\n"
   ]
  },
  {
   "cell_type": "code",
   "execution_count": null,
   "id": "6027aef2-83c8-4bbc-ad9b-e88745d01434",
   "metadata": {},
   "outputs": [],
   "source": []
  }
 ],
 "metadata": {
  "kernelspec": {
   "display_name": "Python (venv)",
   "language": "python",
   "name": "venv"
  },
  "language_info": {
   "codemirror_mode": {
    "name": "ipython",
    "version": 3
   },
   "file_extension": ".py",
   "mimetype": "text/x-python",
   "name": "python",
   "nbconvert_exporter": "python",
   "pygments_lexer": "ipython3",
   "version": "3.12.3"
  }
 },
 "nbformat": 4,
 "nbformat_minor": 5
}
