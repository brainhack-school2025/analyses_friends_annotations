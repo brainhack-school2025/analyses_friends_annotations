{
 "cells": [
  {
   "cell_type": "markdown",
   "id": "b0f0cc4e-9c7b-4e5d-8953-c3b5db36f755",
   "metadata": {},
   "source": [
    "# Data preprocessing for pyscene data"
   ]
  },
  {
   "cell_type": "markdown",
   "id": "166157d7-e466-47d0-bc9f-248feddd50a7",
   "metadata": {},
   "source": [
    "Import libraries"
   ]
  },
  {
   "cell_type": "code",
   "execution_count": 1,
   "id": "8f5a30b8-df9d-4f60-beaf-35ecca4ace5d",
   "metadata": {},
   "outputs": [],
   "source": [
    "import numpy as np\n",
    "import pandas as pd\n",
    "import seaborn as sns\n",
    "import friends_pack"
   ]
  },
  {
   "cell_type": "markdown",
   "id": "8f1ef5a7-328c-49b6-94eb-e50666266531",
   "metadata": {},
   "source": [
    "Get all data into a pandas data frame"
   ]
  },
  {
   "cell_type": "code",
   "execution_count": 2,
   "id": "501bfa45-f88f-47b2-a968-75874614909d",
   "metadata": {},
   "outputs": [],
   "source": [
    "\n",
    "\n",
    " df_scenes = friends_pack.tsv_to_df(\"../friends_annotations/annotation_results/TSVpyscene\", '-Scenes.tsv')\n",
    " \n"
   ]
  },
  {
   "cell_type": "markdown",
   "id": "794e8435-7af8-436c-8b2c-a75e8a54aeba",
   "metadata": {},
   "source": [
    "Add rows that you need for analyses"
   ]
  },
  {
   "cell_type": "code",
   "execution_count": 3,
   "id": "c52bb054-b974-4891-abd4-52c2f6d4129b",
   "metadata": {},
   "outputs": [
    {
     "data": {
      "text/html": [
       "<div>\n",
       "<style scoped>\n",
       "    .dataframe tbody tr th:only-of-type {\n",
       "        vertical-align: middle;\n",
       "    }\n",
       "\n",
       "    .dataframe tbody tr th {\n",
       "        vertical-align: top;\n",
       "    }\n",
       "\n",
       "    .dataframe thead th {\n",
       "        text-align: right;\n",
       "    }\n",
       "</style>\n",
       "<table border=\"1\" class=\"dataframe\">\n",
       "  <thead>\n",
       "    <tr style=\"text-align: right;\">\n",
       "      <th></th>\n",
       "      <th>onset</th>\n",
       "      <th>duration</th>\n",
       "      <th>onset_frame</th>\n",
       "      <th>episode</th>\n",
       "      <th>scene_number</th>\n",
       "      <th>global_scene_number</th>\n",
       "    </tr>\n",
       "  </thead>\n",
       "  <tbody>\n",
       "    <tr>\n",
       "      <th>0</th>\n",
       "      <td>0.000</td>\n",
       "      <td>17.986</td>\n",
       "      <td>1</td>\n",
       "      <td>friends_s01e01a</td>\n",
       "      <td>1</td>\n",
       "      <td>1</td>\n",
       "    </tr>\n",
       "    <tr>\n",
       "      <th>1</th>\n",
       "      <td>17.986</td>\n",
       "      <td>4.705</td>\n",
       "      <td>540</td>\n",
       "      <td>friends_s01e01a</td>\n",
       "      <td>2</td>\n",
       "      <td>2</td>\n",
       "    </tr>\n",
       "    <tr>\n",
       "      <th>2</th>\n",
       "      <td>22.691</td>\n",
       "      <td>4.238</td>\n",
       "      <td>681</td>\n",
       "      <td>friends_s01e01a</td>\n",
       "      <td>3</td>\n",
       "      <td>3</td>\n",
       "    </tr>\n",
       "    <tr>\n",
       "      <th>3</th>\n",
       "      <td>26.928</td>\n",
       "      <td>0.868</td>\n",
       "      <td>808</td>\n",
       "      <td>friends_s01e01a</td>\n",
       "      <td>4</td>\n",
       "      <td>4</td>\n",
       "    </tr>\n",
       "    <tr>\n",
       "      <th>4</th>\n",
       "      <td>27.796</td>\n",
       "      <td>2.269</td>\n",
       "      <td>834</td>\n",
       "      <td>friends_s01e01a</td>\n",
       "      <td>5</td>\n",
       "      <td>5</td>\n",
       "    </tr>\n",
       "    <tr>\n",
       "      <th>...</th>\n",
       "      <td>...</td>\n",
       "      <td>...</td>\n",
       "      <td>...</td>\n",
       "      <td>...</td>\n",
       "      <td>...</td>\n",
       "      <td>...</td>\n",
       "    </tr>\n",
       "    <tr>\n",
       "      <th>47654</th>\n",
       "      <td>648.282</td>\n",
       "      <td>11.646</td>\n",
       "      <td>19429</td>\n",
       "      <td>friends_s06e24b</td>\n",
       "      <td>154</td>\n",
       "      <td>47655</td>\n",
       "    </tr>\n",
       "    <tr>\n",
       "      <th>47655</th>\n",
       "      <td>659.927</td>\n",
       "      <td>6.407</td>\n",
       "      <td>19778</td>\n",
       "      <td>friends_s06e24b</td>\n",
       "      <td>155</td>\n",
       "      <td>47656</td>\n",
       "    </tr>\n",
       "    <tr>\n",
       "      <th>47656</th>\n",
       "      <td>666.334</td>\n",
       "      <td>6.407</td>\n",
       "      <td>19970</td>\n",
       "      <td>friends_s06e24b</td>\n",
       "      <td>156</td>\n",
       "      <td>47657</td>\n",
       "    </tr>\n",
       "    <tr>\n",
       "      <th>47657</th>\n",
       "      <td>672.741</td>\n",
       "      <td>6.574</td>\n",
       "      <td>20162</td>\n",
       "      <td>friends_s06e24b</td>\n",
       "      <td>157</td>\n",
       "      <td>47658</td>\n",
       "    </tr>\n",
       "    <tr>\n",
       "      <th>47658</th>\n",
       "      <td>679.314</td>\n",
       "      <td>6.807</td>\n",
       "      <td>20359</td>\n",
       "      <td>friends_s06e24b</td>\n",
       "      <td>158</td>\n",
       "      <td>47659</td>\n",
       "    </tr>\n",
       "  </tbody>\n",
       "</table>\n",
       "<p>47659 rows × 6 columns</p>\n",
       "</div>"
      ],
      "text/plain": [
       "         onset  duration  onset_frame          episode  scene_number  \\\n",
       "0        0.000    17.986            1  friends_s01e01a             1   \n",
       "1       17.986     4.705          540  friends_s01e01a             2   \n",
       "2       22.691     4.238          681  friends_s01e01a             3   \n",
       "3       26.928     0.868          808  friends_s01e01a             4   \n",
       "4       27.796     2.269          834  friends_s01e01a             5   \n",
       "...        ...       ...          ...              ...           ...   \n",
       "47654  648.282    11.646        19429  friends_s06e24b           154   \n",
       "47655  659.927     6.407        19778  friends_s06e24b           155   \n",
       "47656  666.334     6.407        19970  friends_s06e24b           156   \n",
       "47657  672.741     6.574        20162  friends_s06e24b           157   \n",
       "47658  679.314     6.807        20359  friends_s06e24b           158   \n",
       "\n",
       "       global_scene_number  \n",
       "0                        1  \n",
       "1                        2  \n",
       "2                        3  \n",
       "3                        4  \n",
       "4                        5  \n",
       "...                    ...  \n",
       "47654                47655  \n",
       "47655                47656  \n",
       "47656                47657  \n",
       "47657                47658  \n",
       "47658                47659  \n",
       "\n",
       "[47659 rows x 6 columns]"
      ]
     },
     "execution_count": 3,
     "metadata": {},
     "output_type": "execute_result"
    }
   ],
   "source": [
    "#add scene number and global scene number\n",
    "df_scenes['scene_number'] = df_scenes.groupby('episode').cumcount() + 1\n",
    "df_scenes['global_scene_number'] = range(1, len(df_scenes) + 1)\n",
    "df_scenes"
   ]
  },
  {
   "cell_type": "markdown",
   "id": "2ec78e2c-8ab9-47bd-99b3-95180cdd32ed",
   "metadata": {},
   "source": [
    "print a description of data set to get a preview"
   ]
  },
  {
   "cell_type": "code",
   "execution_count": 4,
   "id": "2337def6-42a1-441a-8210-e7d1c8a2f00d",
   "metadata": {},
   "outputs": [
    {
     "name": "stdout",
     "output_type": "stream",
     "text": [
      "              onset      duration   onset_frame  scene_number  \\\n",
      "count  47659.000000  47659.000000  47659.000000  47659.000000   \n",
      "mean     339.900579      4.188695  10177.691727     85.960574   \n",
      "std      205.274240      3.620343   6145.618798     51.041465   \n",
      "min        0.000000      0.100000      1.000000      1.000000   \n",
      "25%      159.668000      1.902000   4782.000000     42.000000   \n",
      "50%      334.051000      3.137000  10004.000000     84.000000   \n",
      "75%      514.627500      5.239000  15414.000000    127.000000   \n",
      "max      874.486000    138.879000  26208.000000    240.000000   \n",
      "\n",
      "       global_scene_number  \n",
      "count         47659.000000  \n",
      "mean          23830.000000  \n",
      "std           13758.112576  \n",
      "min               1.000000  \n",
      "25%           11915.500000  \n",
      "50%           23830.000000  \n",
      "75%           35744.500000  \n",
      "max           47659.000000  \n"
     ]
    }
   ],
   "source": [
    "print(df_scenes.describe())"
   ]
  },
  {
   "cell_type": "markdown",
   "id": "c7179092-ee69-4246-be7d-8f3096092b6a",
   "metadata": {},
   "source": [
    "save your dataframe into a tsv"
   ]
  },
  {
   "cell_type": "code",
   "execution_count": 5,
   "id": "2fd882bd-9b46-4983-b803-c544df343f79",
   "metadata": {},
   "outputs": [],
   "source": [
    "df_scenes.to_csv(\"../output/scenes_data.tsv\", sep=\"\\t\", index=False)\n"
   ]
  },
  {
   "cell_type": "code",
   "execution_count": null,
   "id": "25fcf524-dbc3-4a02-b786-030d09ea8363",
   "metadata": {},
   "outputs": [],
   "source": []
  }
 ],
 "metadata": {
  "kernelspec": {
   "display_name": "Python 3 (ipykernel)",
   "language": "python",
   "name": "python3"
  },
  "language_info": {
   "codemirror_mode": {
    "name": "ipython",
    "version": 3
   },
   "file_extension": ".py",
   "mimetype": "text/x-python",
   "name": "python",
   "nbconvert_exporter": "python",
   "pygments_lexer": "ipython3",
   "version": "3.13.2"
  }
 },
 "nbformat": 4,
 "nbformat_minor": 5
}
