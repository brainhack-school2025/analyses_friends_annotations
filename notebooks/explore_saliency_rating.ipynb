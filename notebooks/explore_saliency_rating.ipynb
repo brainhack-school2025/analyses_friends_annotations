{
 "cells": [
  {
   "cell_type": "code",
   "execution_count": 1,
   "id": "bfb1fb7e-fbf9-4575-b618-2440a656cb9a",
   "metadata": {},
   "outputs": [],
   "source": [
    "import numpy as np\n",
    "import pandas as pd\n",
    "import os"
   ]
  },
  {
   "cell_type": "code",
   "execution_count": 9,
   "id": "7a76ba8b-c629-43f8-b2db-fb91b231c07c",
   "metadata": {},
   "outputs": [],
   "source": [
    "data = np.load('/home/cleode5a7/Desktop/analyses_friends_annotations/friends_annotations/annotation_results/DeepgazeMr/s1/friends_s01e01b_locmax_pixel_hw.npz', allow_pickle=True)"
   ]
  },
  {
   "cell_type": "code",
   "execution_count": 10,
   "id": "bb20c7a9-8095-4a7e-bf6f-bbea3335c260",
   "metadata": {},
   "outputs": [
    {
     "data": {
      "text/plain": [
       "['deepgaze_vals']"
      ]
     },
     "execution_count": 10,
     "metadata": {},
     "output_type": "execute_result"
    }
   ],
   "source": [
    "data.files\n"
   ]
  },
  {
   "cell_type": "code",
   "execution_count": 11,
   "id": "6af70d42-4292-48d3-9671-ca33ce0862a0",
   "metadata": {},
   "outputs": [
    {
     "name": "stdout",
     "output_type": "stream",
     "text": [
      "[array([[  2.02783107, 215.        , 359.        ]])\n",
      " array([[  1.97070123, 202.        , 342.        ]])\n",
      " array([[  2.2922687 , 265.        , 363.        ],\n",
      "        [  2.00972473, 182.        , 401.        ]]) ...\n",
      " array([[  2.02783107, 215.        , 359.        ]])\n",
      " array([[  2.02783107, 215.        , 359.        ]])\n",
      " array([[  2.02783107, 215.        , 359.        ]])]\n"
     ]
    }
   ],
   "source": [
    "print(data['deepgaze_vals'])"
   ]
  },
  {
   "cell_type": "code",
   "execution_count": 13,
   "id": "7e52ea20-bbf4-4136-aab5-36066b6020ff",
   "metadata": {},
   "outputs": [
    {
     "data": {
      "text/plain": [
       "array([[  3.01094333, 116.        , 170.        ],\n",
       "       [  2.67420309, 112.        , 515.        ]])"
      ]
     },
     "execution_count": 13,
     "metadata": {},
     "output_type": "execute_result"
    }
   ],
   "source": [
    "data['deepgaze_vals'][261]"
   ]
  },
  {
   "cell_type": "code",
   "execution_count": 14,
   "id": "a6ee7e8e-22d9-4dc2-a1ef-65c646a09ffc",
   "metadata": {},
   "outputs": [],
   "source": [
    "df = pd.DataFrame(data['deepgaze_vals'][261])"
   ]
  },
  {
   "cell_type": "code",
   "execution_count": 15,
   "id": "817f2b34-3f2f-494a-b275-be2f697747ce",
   "metadata": {},
   "outputs": [
    {
     "data": {
      "text/html": [
       "<div>\n",
       "<style scoped>\n",
       "    .dataframe tbody tr th:only-of-type {\n",
       "        vertical-align: middle;\n",
       "    }\n",
       "\n",
       "    .dataframe tbody tr th {\n",
       "        vertical-align: top;\n",
       "    }\n",
       "\n",
       "    .dataframe thead th {\n",
       "        text-align: right;\n",
       "    }\n",
       "</style>\n",
       "<table border=\"1\" class=\"dataframe\">\n",
       "  <thead>\n",
       "    <tr style=\"text-align: right;\">\n",
       "      <th></th>\n",
       "      <th>0</th>\n",
       "      <th>1</th>\n",
       "      <th>2</th>\n",
       "    </tr>\n",
       "  </thead>\n",
       "  <tbody>\n",
       "    <tr>\n",
       "      <th>0</th>\n",
       "      <td>3.010943</td>\n",
       "      <td>116.0</td>\n",
       "      <td>170.0</td>\n",
       "    </tr>\n",
       "    <tr>\n",
       "      <th>1</th>\n",
       "      <td>2.674203</td>\n",
       "      <td>112.0</td>\n",
       "      <td>515.0</td>\n",
       "    </tr>\n",
       "  </tbody>\n",
       "</table>\n",
       "</div>"
      ],
      "text/plain": [
       "          0      1      2\n",
       "0  3.010943  116.0  170.0\n",
       "1  2.674203  112.0  515.0"
      ]
     },
     "execution_count": 15,
     "metadata": {},
     "output_type": "execute_result"
    }
   ],
   "source": [
    "df"
   ]
  },
  {
   "cell_type": "code",
   "execution_count": 21,
   "id": "8d850eca-e161-4a75-bb32-4712f336055f",
   "metadata": {},
   "outputs": [],
   "source": [
    "\n",
    "\n",
    "rows = []\n",
    "\n",
    "for frame_id, arr in enumerate(data['deepgaze_vals']):\n",
    "    arr = np.squeeze(arr)  # remove extra dims if any\n",
    "    \n",
    "    # Handle the case where arr is a 1D array of length 3 (one point)\n",
    "    if arr.ndim == 1 and arr.shape[0] == 3:\n",
    "        arr = np.expand_dims(arr, axis=0)  # make it (1, 3)\n",
    "    \n",
    "    # Skip if arr is 0D or invalid\n",
    "    if arr.ndim == 0:\n",
    "        continue\n",
    "    \n",
    "    # Iterate over all saliency points in this frame\n",
    "    for point in arr:\n",
    "        score, h, w = point\n",
    "        rows.append([frame_id, score, int(h), int(w)])\n",
    "\n",
    "# Create DataFrame\n",
    "df = pd.DataFrame(rows, columns=['frame', 'score', 'h', 'w'])\n"
   ]
  },
  {
   "cell_type": "code",
   "execution_count": 24,
   "id": "df25f9dd-f084-41ae-868f-56ee951c3c5d",
   "metadata": {},
   "outputs": [
    {
     "data": {
      "text/html": [
       "<div>\n",
       "<style scoped>\n",
       "    .dataframe tbody tr th:only-of-type {\n",
       "        vertical-align: middle;\n",
       "    }\n",
       "\n",
       "    .dataframe tbody tr th {\n",
       "        vertical-align: top;\n",
       "    }\n",
       "\n",
       "    .dataframe thead th {\n",
       "        text-align: right;\n",
       "    }\n",
       "</style>\n",
       "<table border=\"1\" class=\"dataframe\">\n",
       "  <thead>\n",
       "    <tr style=\"text-align: right;\">\n",
       "      <th></th>\n",
       "      <th>frame</th>\n",
       "      <th>score</th>\n",
       "      <th>h</th>\n",
       "      <th>w</th>\n",
       "    </tr>\n",
       "  </thead>\n",
       "  <tbody>\n",
       "    <tr>\n",
       "      <th>0</th>\n",
       "      <td>0</td>\n",
       "      <td>2.027831</td>\n",
       "      <td>215</td>\n",
       "      <td>359</td>\n",
       "    </tr>\n",
       "    <tr>\n",
       "      <th>1</th>\n",
       "      <td>1</td>\n",
       "      <td>1.970701</td>\n",
       "      <td>202</td>\n",
       "      <td>342</td>\n",
       "    </tr>\n",
       "    <tr>\n",
       "      <th>2</th>\n",
       "      <td>2</td>\n",
       "      <td>2.292269</td>\n",
       "      <td>265</td>\n",
       "      <td>363</td>\n",
       "    </tr>\n",
       "    <tr>\n",
       "      <th>3</th>\n",
       "      <td>2</td>\n",
       "      <td>2.009725</td>\n",
       "      <td>182</td>\n",
       "      <td>401</td>\n",
       "    </tr>\n",
       "    <tr>\n",
       "      <th>4</th>\n",
       "      <td>3</td>\n",
       "      <td>2.804074</td>\n",
       "      <td>267</td>\n",
       "      <td>365</td>\n",
       "    </tr>\n",
       "    <tr>\n",
       "      <th>...</th>\n",
       "      <td>...</td>\n",
       "      <td>...</td>\n",
       "      <td>...</td>\n",
       "      <td>...</td>\n",
       "    </tr>\n",
       "    <tr>\n",
       "      <th>42701</th>\n",
       "      <td>26345</td>\n",
       "      <td>2.027831</td>\n",
       "      <td>215</td>\n",
       "      <td>359</td>\n",
       "    </tr>\n",
       "    <tr>\n",
       "      <th>42702</th>\n",
       "      <td>26346</td>\n",
       "      <td>2.027831</td>\n",
       "      <td>215</td>\n",
       "      <td>359</td>\n",
       "    </tr>\n",
       "    <tr>\n",
       "      <th>42703</th>\n",
       "      <td>26347</td>\n",
       "      <td>2.027831</td>\n",
       "      <td>215</td>\n",
       "      <td>359</td>\n",
       "    </tr>\n",
       "    <tr>\n",
       "      <th>42704</th>\n",
       "      <td>26348</td>\n",
       "      <td>2.027831</td>\n",
       "      <td>215</td>\n",
       "      <td>359</td>\n",
       "    </tr>\n",
       "    <tr>\n",
       "      <th>42705</th>\n",
       "      <td>26349</td>\n",
       "      <td>2.027831</td>\n",
       "      <td>215</td>\n",
       "      <td>359</td>\n",
       "    </tr>\n",
       "  </tbody>\n",
       "</table>\n",
       "<p>42706 rows × 4 columns</p>\n",
       "</div>"
      ],
      "text/plain": [
       "       frame     score    h    w\n",
       "0          0  2.027831  215  359\n",
       "1          1  1.970701  202  342\n",
       "2          2  2.292269  265  363\n",
       "3          2  2.009725  182  401\n",
       "4          3  2.804074  267  365\n",
       "...      ...       ...  ...  ...\n",
       "42701  26345  2.027831  215  359\n",
       "42702  26346  2.027831  215  359\n",
       "42703  26347  2.027831  215  359\n",
       "42704  26348  2.027831  215  359\n",
       "42705  26349  2.027831  215  359\n",
       "\n",
       "[42706 rows x 4 columns]"
      ]
     },
     "execution_count": 24,
     "metadata": {},
     "output_type": "execute_result"
    }
   ],
   "source": [
    "df"
   ]
  },
  {
   "cell_type": "code",
   "execution_count": null,
   "id": "405d3bf8-c6ea-48a4-9123-0fda5646260c",
   "metadata": {},
   "outputs": [],
   "source": []
  }
 ],
 "metadata": {
  "kernelspec": {
   "display_name": "Python 3 (ipykernel)",
   "language": "python",
   "name": "python3"
  },
  "language_info": {
   "codemirror_mode": {
    "name": "ipython",
    "version": 3
   },
   "file_extension": ".py",
   "mimetype": "text/x-python",
   "name": "python",
   "nbconvert_exporter": "python",
   "pygments_lexer": "ipython3",
   "version": "3.13.2"
  }
 },
 "nbformat": 4,
 "nbformat_minor": 5
}
